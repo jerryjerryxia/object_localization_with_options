{
 "cells": [
  {
   "cell_type": "markdown",
   "metadata": {},
   "source": [
    "# Load Data and PKGs"
   ]
  },
  {
   "cell_type": "markdown",
   "metadata": {},
   "source": [
    "## Pkgs"
   ]
  },
  {
   "cell_type": "code",
   "execution_count": 22,
   "metadata": {},
   "outputs": [],
   "source": [
    "from os import getcwd as gwd\n",
    "from os import chdir as cd\n",
    "from itertools import combinations \n",
    "from scipy.stats import pearsonr as pr\n",
    "from scipy.stats import zscore as zscore\n",
    "from scipy.stats import ttest_rel as ttest\n",
    "import copy\n",
    "import numpy as np\n",
    "import pandas\n",
    "import matplotlib.pyplot as plt\n",
    "np.random.seed(223)"
   ]
  },
  {
   "cell_type": "code",
   "execution_count": 24,
   "metadata": {},
   "outputs": [],
   "source": [
    "# Replace outliers by mean\n",
    "def clrOutlier(data):\n",
    "    mu = np.mean(data,axis=None)\n",
    "    sd = np.std(data,axis=None)\n",
    "    ind1 = np.nonzero(data<float(mu-3*sd))\n",
    "    if len(ind1) != 0:\n",
    "        data[ind1] = mu\n",
    "    ind2 = np.nonzero(data>float(mu+3*sd))\n",
    "    if len(ind2) != 0:\n",
    "        data[ind2] = mu\n",
    "    return data"
   ]
  },
  {
   "cell_type": "markdown",
   "metadata": {},
   "source": [
    "## Angular Error Data"
   ]
  },
  {
   "cell_type": "code",
   "execution_count": 46,
   "metadata": {},
   "outputs": [],
   "source": [
    "angAnalysis = True\n",
    "subjs = ['ZW','KP','JX','L']\n",
    "dataAll = dict()\n",
    "for subjName in subjs:\n",
    "    data = pandas.read_csv((subjName+'.csv'),header=None,names=['x','y','ang'],usecols=[26,27,34])\n",
    "    data = data[-pandas.isnull(data.x)]\n",
    "    data = data[1:(len(data)+1)]\n",
    "    data.index = range(len(data))\n",
    "    data = data.astype(float)\n",
    "    dataAll[subjName] = data"
   ]
  },
  {
   "cell_type": "markdown",
   "metadata": {},
   "source": [
    "### Functions for Preprocessing"
   ]
  },
  {
   "cell_type": "code",
   "execution_count": 3,
   "metadata": {},
   "outputs": [],
   "source": [
    "# calculate angular response\n",
    "def calAng(x,y):\n",
    "    angResp = np.rad2deg(np.arctan2(y,x))\n",
    "    if angResp < 0:\n",
    "        angResp = 360+angResp\n",
    "    return angResp\n",
    "\n",
    "# Morph errors\n",
    "def morphErr(err):\n",
    "    if err > 180:\n",
    "        err = -360+err\n",
    "    else:\n",
    "        if err < (-180):\n",
    "            err = 360+err\n",
    "    return err"
   ]
  },
  {
   "cell_type": "markdown",
   "metadata": {},
   "source": [
    "### Preprocessing"
   ]
  },
  {
   "cell_type": "code",
   "execution_count": 4,
   "metadata": {},
   "outputs": [],
   "source": [
    "def preprocessPerSubj(data):\n",
    "    angErr=None\n",
    "    for trial in range(0,480):\n",
    "        err = morphErr(calAng(data.x[trial],data.y[trial])-data.ang[trial]*7.5)\n",
    "        if angErr is not None:\n",
    "            angErr = np.vstack((angErr,np.array(err)))\n",
    "        else:\n",
    "            angErr = np.array(err)\n",
    "    angErr = clrOutlier(angErr)\n",
    "    return angErr"
   ]
  },
  {
   "cell_type": "code",
   "execution_count": 5,
   "metadata": {
    "code_folding": []
   },
   "outputs": [],
   "source": [
    "errAll = dict()\n",
    "for subj in subjs:   \n",
    "    errs = pandas.DataFrame(data = preprocessPerSubj(dataAll[subj]),columns=['errors'])\n",
    "    errs['locs'] = dataAll[subj].ang\n",
    "    errs = errs.sort_values('locs')\n",
    "    errs.index = range(480)\n",
    "    errAll[subj] = errs"
   ]
  },
  {
   "cell_type": "markdown",
   "metadata": {},
   "source": [
    "## Reaction Time Data"
   ]
  },
  {
   "cell_type": "code",
   "execution_count": 26,
   "metadata": {},
   "outputs": [],
   "source": [
    "rtAnalysis = True\n",
    "subjs = ['ZW','KP','JX','L']\n",
    "rtAll = dict()\n",
    "for subjName in subjs:\n",
    "    data = pandas.read_csv((subjName+'.csv'),header=None,names=['errors','locs'],usecols=[30,34]) # Note that now \"errors\" are rt\n",
    "    data = data[-pandas.isnull(data.errors)]\n",
    "    data = data[1:481]\n",
    "    data = data.astype(float)\n",
    "    data.errors = clrOutlier(np.array(data.errors))\n",
    "    data = data.sort_values('locs')\n",
    "    data.index = range(480)\n",
    "    rtAll[subjName] = data"
   ]
  },
  {
   "cell_type": "markdown",
   "metadata": {},
   "source": [
    "# Within-subject correlations"
   ]
  },
  {
   "cell_type": "markdown",
   "metadata": {},
   "source": [
    "## functions"
   ]
  },
  {
   "cell_type": "code",
   "execution_count": 27,
   "metadata": {},
   "outputs": [],
   "source": [
    "# generate random indices\n",
    "def genRandInd():\n",
    "    indices = None\n",
    "    for angle in range(48):\n",
    "        randInd = np.random.choice(10,5,replace=False)+angle*10\n",
    "        if indices is not None:\n",
    "            indices = np.hstack((indices,randInd))\n",
    "        else:\n",
    "            indices = randInd\n",
    "    return np.array(indices)\n",
    "\n",
    "# average each half\n",
    "def avgHalf(df,indices):\n",
    "    half1 = df.errors[indices]\n",
    "    half2 = df.errors.drop(indices)\n",
    "    resultDF = pandas.DataFrame()\n",
    "    resultDF['half1'] = half1.groupby(np.arange(len(half1))//5).mean()\n",
    "    resultDF['half2']  = half2.groupby(np.arange(len(half2))//5).mean()\n",
    "    return resultDF\n",
    "\n",
    "# shift a half for a random phase\n",
    "# half must be a numpy array\n",
    "def shiftHalf(half):\n",
    "    randPhase = np.int(np.random.choice(len(half),1))\n",
    "    if randPhase == 0:\n",
    "        return half\n",
    "    else:\n",
    "        if randPhase == len(half)-1:\n",
    "            half = np.concatenate(([half[randPhase]],half[range(randPhase)]))\n",
    "            return half\n",
    "        else:\n",
    "            half = np.concatenate((half[range(randPhase,np.int(len(half)))],half[range(randPhase)]))\n",
    "            return half"
   ]
  },
  {
   "cell_type": "markdown",
   "metadata": {},
   "source": [
    "## Bootstrap Within"
   ]
  },
  {
   "cell_type": "code",
   "execution_count": 28,
   "metadata": {},
   "outputs": [],
   "source": [
    "def avgSplitHalf(errAll,allSubj = subjs):\n",
    "    allRVals = list()\n",
    "    for subj in allSubj:\n",
    "        twoHalves = avgHalf(errAll[subj],genRandInd())\n",
    "        [r,p]=pr(twoHalves.half1,twoHalves.half2)\n",
    "        allRVals.append(r)\n",
    "    allRVals = np.array(allRVals)\n",
    "    return np.tanh(np.mean(np.arctanh(allRVals)))"
   ]
  },
  {
   "cell_type": "code",
   "execution_count": 29,
   "metadata": {},
   "outputs": [],
   "source": [
    "bootWithinR = list()\n",
    "iters = 1000\n",
    "for it in range(iters):\n",
    "    if rtAnalysis:\n",
    "        bootWithinR.append(avgSplitHalf(errAll = rtAll))\n",
    "    else:\n",
    "        bootWithinR.append(avgSplitHalf(errAll = errAll))"
   ]
  },
  {
   "cell_type": "code",
   "execution_count": 30,
   "metadata": {},
   "outputs": [
    {
     "name": "stdout",
     "output_type": "stream",
     "text": [
      "Bootstrap Within Results\n",
      "mean r = 0.29645980781649606\n",
      "95% CI = [ 0.20837071534207718 0.38557921054747313 ]\n"
     ]
    }
   ],
   "source": [
    "meanBootWithinR = np.tanh(np.mean(np.arctanh(bootWithinR)))\n",
    "bootWithinCI = [np.sort(bootWithinR)[np.int(iters*.025-1)],np.sort(bootWithinR)[np.int(iters*.975-1)]]\n",
    "print('Bootstrap Within Results')\n",
    "print('mean r =',meanBootWithinR)\n",
    "print('95% CI =','[',bootWithinCI[0],bootWithinCI[1],']')"
   ]
  },
  {
   "cell_type": "markdown",
   "metadata": {},
   "source": [
    "## Permutation Within"
   ]
  },
  {
   "cell_type": "code",
   "execution_count": 31,
   "metadata": {},
   "outputs": [],
   "source": [
    "def avgPermWithin(errAll,allSubj = subjs):\n",
    "    permR = list()\n",
    "    for subj in allSubj:\n",
    "        twoHalves = avgHalf(errAll[subj],genRandInd())\n",
    "        shiftedHalf = shiftHalf(np.array(twoHalves.half2))\n",
    "        [r,p]=pr(twoHalves.half1,shiftedHalf)\n",
    "        permR.append(r)\n",
    "    permR = np.array(permR)\n",
    "    return np.tanh(np.mean(np.arctanh(permR)))"
   ]
  },
  {
   "cell_type": "code",
   "execution_count": 32,
   "metadata": {},
   "outputs": [],
   "source": [
    "permWithinR = list()\n",
    "iters = 1000\n",
    "for it in range(iters):\n",
    "    if rtAnalysis:\n",
    "        permWithinR.append(avgPermWithin(rtAll))\n",
    "    else:\n",
    "        permWithinR.append(avgPermWithin(errAll))"
   ]
  },
  {
   "cell_type": "code",
   "execution_count": 33,
   "metadata": {},
   "outputs": [
    {
     "name": "stdout",
     "output_type": "stream",
     "text": [
      "Permutation Within Results\n",
      "mean r = -0.001566255148006789\n",
      "95% CI = [ -0.22214384764281744 0.22943904053272474 ]\n"
     ]
    }
   ],
   "source": [
    "meanPermWithinR = np.tanh(np.mean(np.arctanh(permWithinR)))\n",
    "permWithinCI = [np.sort(permWithinR)[np.int(iters*.025-1)],np.sort(permWithinR)[np.int(iters*.975-1)]]\n",
    "print('Permutation Within Results')\n",
    "print('mean r =',meanPermWithinR)\n",
    "print('95% CI =','[',permWithinCI[0],permWithinCI[1],']')"
   ]
  },
  {
   "cell_type": "markdown",
   "metadata": {},
   "source": [
    "## Correlate angular errors in face with NB"
   ]
  },
  {
   "cell_type": "code",
   "execution_count": 13,
   "metadata": {},
   "outputs": [
    {
     "name": "stdout",
     "output_type": "stream",
     "text": [
      "0.42019440103001116 0.002944847805601079\n"
     ]
    }
   ],
   "source": [
    "nbData = pandas.read_csv('/Users/zixuan/Box/Position ZW/diffEcc/NoiseBlob/Results/ZWmean.csv',header=None,names=['errors'])\n",
    "faceData = errAll['ZW'].errors.groupby(np.arange(len(errAll['ZW'].errors))//10).mean()\n",
    "nbData = nbData.errors[np.hstack((47,np.arange(47)))]\n",
    "[r,p] = pr(faceData,nbData)\n",
    "print(r,p)"
   ]
  },
  {
   "cell_type": "code",
   "execution_count": 28,
   "metadata": {},
   "outputs": [
    {
     "data": {
      "image/png": "[encoded data removed]",
      "text/plain": [
       "<Figure size 432x288 with 1 Axes>"
      ]
     },
     "metadata": {},
     "output_type": "display_data"
    }
   ],
   "source": [
    "plt.plot(7.5*np.arange(1,49),nbData)\n",
    "plt.plot(7.5*np.arange(1,49),faceData)\n",
    "plt.legend(['Noise Blob','Face Patch'])\n",
    "plt.xlabel(\"Angular Locations (deg)\")\n",
    "plt.ylabel(\"Mislocalization Errors (deg)\")\n",
    "plt.savefig(\"corrFaceNB.png\")\n",
    "plt.show()"
   ]
  },
  {
   "cell_type": "code",
   "execution_count": 15,
   "metadata": {},
   "outputs": [
    {
     "data": {
      "image/png": "[encoded data removed]",
      "text/plain": [
       "<Figure size 432x288 with 1 Axes>"
      ]
     },
     "metadata": {
      "needs_background": "light"
     },
     "output_type": "display_data"
    }
   ],
   "source": [
    "plt.hist(nbData)\n",
    "plt.hist(faceData)\n",
    "plt.show()"
   ]
  },
  {
   "cell_type": "markdown",
   "metadata": {},
   "source": [
    "# Between-subject correlations"
   ]
  },
  {
   "cell_type": "markdown",
   "metadata": {},
   "source": [
    "## functions"
   ]
  },
  {
   "cell_type": "code",
   "execution_count": 34,
   "metadata": {},
   "outputs": [],
   "source": [
    "# correlate 2 halves from 2 subjects\n",
    "def corrEachPair(errs1,errs2,permOrNot=False):\n",
    "    twoHalves1 = avgHalf(errs1,genRandInd())\n",
    "    twoHalves2 = avgHalf(errs2,genRandInd())\n",
    "    anotherHalf = twoHalves2.half1\n",
    "    if permOrNot:\n",
    "        twoHalves2.half1 = shiftHalf(np.array(anotherHalf))\n",
    "    [r,p]=pr(twoHalves1.half1,anotherHalf)        \n",
    "    return r\n",
    "\n",
    "# all pairwise between\n",
    "def pairwiseBtw(errAll,subjName=subjs,perm=False):\n",
    "    allRVals = list()\n",
    "    for subj1 in subjName:\n",
    "        for subj2 in subjName:\n",
    "            if subj1 != subj2:\n",
    "                r=corrEachPair(errAll[subj1],errAll[subj2],perm)\n",
    "                allRVals.append(r)\n",
    "    return(np.array(allRVals))\n"
   ]
  },
  {
   "cell_type": "markdown",
   "metadata": {},
   "source": [
    "## Bootstrap Between"
   ]
  },
  {
   "cell_type": "code",
   "execution_count": 37,
   "metadata": {},
   "outputs": [],
   "source": [
    "iters = 1000\n",
    "bootBtwR = list()\n",
    "for it in range(iters):\n",
    "    if rtAnalysis:\n",
    "        bootBtwR.append(np.tanh(np.mean(np.arctanh(pairwiseBtw(rtAll)))))\n",
    "    else:\n",
    "        bootBtwR.append(np.tanh(np.mean(np.arctanh(pairwiseBtw(errAll)))))\n",
    "bootBtwR = np.array(bootBtwR)"
   ]
  },
  {
   "cell_type": "code",
   "execution_count": 38,
   "metadata": {},
   "outputs": [
    {
     "name": "stdout",
     "output_type": "stream",
     "text": [
      "Bootstrap Between-subject Results\n",
      "mean r = 0.021732405960518945\n",
      "95% CI = [ -0.04714185072759388 0.084808959829476 ]\n"
     ]
    }
   ],
   "source": [
    "meanBootBtwR = np.tanh(np.mean(np.arctanh(bootBtwR)))\n",
    "bootBtwCI = [np.sort(bootBtwR)[np.int(iters*0.025-1)],np.sort(bootBtwR)[np.int(iters*0.975-1)]]\n",
    "print('Bootstrap Between-subject Results')\n",
    "print('mean r =',meanBootBtwR)\n",
    "print('95% CI =','[',bootBtwCI[0],bootBtwCI[1],']')"
   ]
  },
  {
   "cell_type": "markdown",
   "metadata": {},
   "source": [
    "## Permutation Between"
   ]
  },
  {
   "cell_type": "code",
   "execution_count": 39,
   "metadata": {},
   "outputs": [],
   "source": [
    "iters = 1000\n",
    "permBtwR = list()\n",
    "for it in range(iters):\n",
    "    if rtAnalysis:\n",
    "        permBtwR.append(np.tanh(np.mean(np.arctanh(pairwiseBtw(rtAll,perm=True)))))\n",
    "    else:\n",
    "        permBtwR.append(np.tanh(np.mean(np.arctanh(pairwiseBtw(errAll,perm=True)))))\n",
    "permBtwR = np.array(permBtwR)"
   ]
  },
  {
   "cell_type": "code",
   "execution_count": 40,
   "metadata": {},
   "outputs": [
    {
     "name": "stdout",
     "output_type": "stream",
     "text": [
      "Permutation Between-subject Results\n",
      "mean r = -0.0022005505585354374\n",
      "95% CI = [ -0.10809193543627733 0.10434108757627049 ]\n"
     ]
    }
   ],
   "source": [
    "meanPermBtwR = np.tanh(np.mean(np.arctanh(permBtwR)))\n",
    "permBtwCI = [np.sort(permBtwR)[np.int(iters*0.025-1)],np.sort(permBtwR)[np.int(iters*0.975-1)]]\n",
    "print('Permutation Between-subject Results')\n",
    "print('mean r =',meanPermBtwR)\n",
    "print('95% CI =','[',permBtwCI[0],permBtwCI[1],']')"
   ]
  },
  {
   "cell_type": "markdown",
   "metadata": {},
   "source": [
    "## Ploting Within vs. Between"
   ]
  },
  {
   "cell_type": "code",
   "execution_count": 42,
   "metadata": {},
   "outputs": [
    {
     "data": {
      "image/png": "[encoded data removed]",
      "text/plain": [
       "<Figure size 432x288 with 1 Axes>"
      ]
     },
     "metadata": {},
     "output_type": "display_data"
    }
   ],
   "source": [
    "plt.style.use('ggplot')\n",
    "x = ['Within-subject','Between-subject']\n",
    "meanRs = [meanBootWithinR,meanBootBtwR]\n",
    "CIs = np.array([[meanBootWithinR-bootWithinCI[0],meanBootBtwR-bootBtwCI[0]], \\\n",
    "               [bootWithinCI[1]-meanBootWithinR,bootBtwCI[1]-meanBootBtwR]])\n",
    "barWidth = .3\n",
    "x_pos = [0,barWidth*2]\n",
    "plt.bar(x_pos, meanRs, color='gray',yerr=CIs,width=barWidth,error_kw=dict(lw=5, capsize=5, capthick=3))\n",
    "plt.xticks(x_pos, x)\n",
    "\n",
    "plt.errorbar([0,2*barWidth],[0,0],[[-permWithinCI[0],-permBtwCI[0]],\\\n",
    "                                   [permWithinCI[1],permBtwCI[1]]],fmt='.k',\\\n",
    "             capsize=40,ecolor='red')\n",
    "plt.ylabel(\"Pearson's Correlation\")\n",
    "if rtAnalysis:\n",
    "    plt.savefig(\"WithinBetweenCorrRT.png\")\n",
    "else:\n",
    "    plt.savefig(\"WithinBetweenCorr.png\")\n",
    "# # plot perm CIs as horizontal bars\n",
    "# plt.plot([-barWidth/2,barWidth/2],[permWithinCI[0],permWithinCI[0]],color = 'red')\n",
    "# plt.plot([-barWidth/2,barWidth/2],[permWithinCI[1],permWithinCI[1]],color = 'red')\n",
    "# plt.plot([3*barWidth/2,5*barWidth/2],[permBtwCI[0],permBtwCI[0]],color = 'blue')\n",
    "# plt.plot([3*barWidth/2,5*barWidth/2],[permBtwCI[1],permBtwCI[1]],color = 'blue')"
   ]
  },
  {
   "cell_type": "code",
   "execution_count": null,
   "metadata": {},
   "outputs": [],
   "source": []
  },
  {
   "cell_type": "code",
   "execution_count": null,
   "metadata": {},
   "outputs": [],
   "source": []
  }
 ],
 "metadata": {
  "kernelspec": {
   "display_name": "Python 3",
   "language": "python",
   "name": "python3"
  },
  "language_info": {
   "codemirror_mode": {
    "name": "ipython",
    "version": 3
   },
   "file_extension": ".py",
   "mimetype": "text/x-python",
   "name": "python",
   "nbconvert_exporter": "python",
   "pygments_lexer": "ipython3",
   "version": "3.7.0"
  },
  "toc": {
   "base_numbering": 1,
   "nav_menu": {},
   "number_sections": true,
   "sideBar": true,
   "skip_h1_title": false,
   "title_cell": "Table of Contents",
   "title_sidebar": "Contents",
   "toc_cell": false,
   "toc_position": {
    "height": "calc(100% - 180px)",
    "left": "10px",
    "top": "150px",
    "width": "288px"
   },
   "toc_section_display": true,
   "toc_window_display": true
  }
 },
 "nbformat": 4,
 "nbformat_minor": 2
}
